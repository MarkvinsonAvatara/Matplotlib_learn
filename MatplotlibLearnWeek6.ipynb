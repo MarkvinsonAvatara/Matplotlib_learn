{
 "cells": [
  {
   "cell_type": "markdown",
   "metadata": {},
   "source": [
    "# Matplotlib Week 6"
   ]
  },
  {
   "cell_type": "markdown",
   "metadata": {},
   "source": [
    "# Part 1 Box Plot / Box Chart"
   ]
  },
  {
   "cell_type": "markdown",
   "metadata": {},
   "source": [
    "Pada bagian ini kita akan mempelajari cara membuat Box Plot atau Box Chart pada Matplotlib"
   ]
  },
  {
   "cell_type": "code",
   "execution_count": 40,
   "metadata": {},
   "outputs": [],
   "source": [
    "#import modules\n",
    "\n",
    "%matplotlib inline \n",
    "import matplotlib\n",
    "import matplotlib.pyplot as plt\n",
    "import numpy as np"
   ]
  },
  {
   "cell_type": "code",
   "execution_count": 41,
   "metadata": {},
   "outputs": [
    {
     "name": "stdout",
     "output_type": "stream",
     "text": [
      "3.3.2\n",
      "1.19.2\n"
     ]
    }
   ],
   "source": [
    "#check version\n",
    "print(matplotlib.__version__)\n",
    "print(np.__version__)"
   ]
  },
  {
   "cell_type": "markdown",
   "metadata": {},
   "source": [
    "# Sample Dataset"
   ]
  },
  {
   "cell_type": "markdown",
   "metadata": {},
   "source": [
    " Untuk sample dataset yang kali ini dibentuk menggunakan fungsi random.seed() yang dimiliki oleh numpy"
   ]
  },
  {
   "cell_type": "code",
   "execution_count": 42,
   "metadata": {},
   "outputs": [
    {
     "data": {
      "text/plain": [
       "array([ 95.83242153,  99.43733173,  78.63803904, 116.40270808,\n",
       "        82.06564415,  91.58252634, 105.02881417,  87.54711913,\n",
       "        89.42047781,  90.90992385, 105.51454045, 122.92208013,\n",
       "       100.41539393,  88.82074555, 105.39058321,  94.038403  ,\n",
       "        99.80869503, 111.7500122 ,  92.52129051, 100.09025251,\n",
       "        91.21892107,  98.4356583 , 102.56570452,  90.11220951,\n",
       "        96.61178034,  97.63815969,  93.62344988,  88.12387714,\n",
       "        85.78782773,  98.46504804,  97.3094304 , 122.31366789,\n",
       "        75.65232423, 101.12726505, 103.70444537, 113.59633863,\n",
       "       105.01857207,  91.55786296, 100.00009761, 105.42352572,\n",
       "        96.86491803, 107.71011738,  81.31909345, 117.31184666,\n",
       "       114.67678011,  96.64322661, 106.1134078 , 100.47970592,\n",
       "        91.70864711, 100.87710218, 110.00365887,  96.18907482,\n",
       "        96.24330577,  99.25529237, 104.3349633 , 112.7837923 ,\n",
       "        93.65320695, 105.08396243, 102.16116006,  81.41387614,\n",
       "        95.80683518,  98.67671102,  99.6042976 , 103.26003433,\n",
       "        79.59676951, 100.46255523,  93.22324423,  85.60560973,\n",
       "       105.2429643 , 107.35279576,  93.46749732, 108.42456282,\n",
       "        96.18483518, 100.66489009,  89.01261053, 115.84487056,\n",
       "        73.40550544,  99.08547377, 106.95119605,  79.66533454,\n",
       "        98.10530735,  99.22781335, 108.24703005, 112.48212921,\n",
       "        95.96107731,  86.15481333, 113.67235424, 112.17885633,\n",
       "        95.37994652, 103.50888494, 103.81866234, 105.66275441,\n",
       "       102.04207979, 114.06696242,  82.62040496, 110.40823953,\n",
       "       103.8047197 ,  97.82864731, 111.73531498,  76.56396809,\n",
       "       111.61521491, 103.86078048,  88.66866726, 104.33092555,\n",
       "        96.95913561, 125.85294868, 118.35332723, 104.40689872,\n",
       "        92.80746159,  94.16585405,  96.74950372,  94.39765494,\n",
       "        90.97753932,  94.09027725,  97.23820508,  94.83116106,\n",
       "        93.0141005 ,  90.71108075, 125.50438236,  85.26826752,\n",
       "        89.78585269, 104.32395701,  96.7641993 , 104.23824708,\n",
       "       107.99179995, 112.62613663, 107.51964849,  90.06239017,\n",
       "       111.09143281,  82.35082272,  98.85578703,  95.01825806,\n",
       "        89.39200964, 105.91666521,  98.16743426, 110.19854729,\n",
       "        85.17534522, 108.46311892, 104.97940148, 101.26504175,\n",
       "        85.81189449,  97.48225882,  84.53325389,  79.17348064,\n",
       "       132.79745401, 109.7086132 , 117.92592852,  95.70986681,\n",
       "       106.9619798 , 106.97416272, 106.01515814, 100.03659491,\n",
       "        97.71752442,  79.30387737, 106.10144086, 104.234969  ,\n",
       "       111.17886733,  97.25757911, 117.41812188,  95.52499124,\n",
       "        87.44572782, 109.38163671,  95.3165374 ,  87.45279693,\n",
       "       101.24823646, 107.56502143, 102.41439629, 104.97425649,\n",
       "       141.08692624, 108.21120877, 115.31760316,  80.14154226,\n",
       "       103.65053516, 107.74082033,  96.35520908,  91.24020522,\n",
       "       103.96520159,  96.85382564,  94.06244417, 111.49500568,\n",
       "       113.35566168, 103.02629336,  95.45772145, 105.14370717,\n",
       "       108.29458431, 106.30621967,  85.4663565 ,  96.61982223,\n",
       "       103.59133332, 106.22220414, 109.60781945, 107.58370347,\n",
       "        88.65681517,  92.92579112,  87.78570835, 118.04476642,\n",
       "       101.80409807, 105.53164274, 110.33029066,  96.70997565])"
      ]
     },
     "execution_count": 42,
     "metadata": {},
     "output_type": "execute_result"
    }
   ],
   "source": [
    "np.random.seed(2)\n",
    "data= np.random.normal(loc=100, scale=10, size=200)\n",
    "data"
   ]
  },
  {
   "cell_type": "markdown",
   "metadata": {},
   "source": [
    "note: pemanggilan fungsi np.random.normal ini akan menghasilkan sekumpulan bilangan acak yang akan membentuk distribusi normal.\n",
    "- loc: mendefinisikan titik tengah atau nilai mean dari distribusi normal yang dibentuk\n",
    "- scale: digunakan untuk mengatur sebaran data (paramter ini akan setara dengan nilai standard devisiasi nya)\n",
    "- size: digunakan untuk mengatur jumlah data point yang ingin kita hasilkan"
   ]
  },
  {
   "cell_type": "markdown",
   "metadata": {},
   "source": [
    "# Simple Box Plot"
   ]
  },
  {
   "cell_type": "markdown",
   "metadata": {},
   "source": [
    "Style yang digunakan untuk melakukan visualisasi data kali ini dengan menggunakan pyplot style"
   ]
  },
  {
   "cell_type": "code",
   "execution_count": 43,
   "metadata": {},
   "outputs": [
    {
     "data": {
      "image/png": "[encoded data removed]",
      "text/plain": [
       "<Figure size 432x288 with 1 Axes>"
      ]
     },
     "metadata": {
      "needs_background": "light"
     },
     "output_type": "display_data"
    }
   ],
   "source": [
    "#contoh Box Plot\n",
    "plt.boxplot(data, labels=['Data'])\n",
    "plt.title('Simple Box Plot')\n",
    "plt.xlabel('Sumbu X')\n",
    "plt.ylabel('Sumbu Y')\n",
    "\n",
    "plt.grid()\n",
    "plt.show()"
   ]
  },
  {
   "cell_type": "markdown",
   "metadata": {},
   "source": [
    "note: parameter labels=['Data'] digunakan untuk mengatur penanda pada sumbu x (parameter ini bersifat optional)"
   ]
  },
  {
   "cell_type": "markdown",
   "metadata": {},
   "source": [
    "# Cara membaca suatu Box Plot"
   ]
  },
  {
   "cell_type": "markdown",
   "metadata": {},
   "source": [
    "- Garis tengah pada kotak di boxplot merepresentasikan median atau nilai tengah (q2 atau kuartil dua)\n",
    "- Garis yang membentuk kotaknya (garis horizontal bawah dan atas) merepresentasikan q1 (kuartil pertama) dan q3 (kuartil 3)\n",
    "- Garis diatas dan diibawah kotak merepresentasikan nilai tertinggi dan nilai terendah yang masih diambang batas 1,5 IQR (interquartil range)\n",
    "- Marker bulat merepresentasikan outlier pada data kita (untuk Box Plot yang dinamakan sebagai outlier adalah data-data yang berada diluar jangkuan 1,5 IQR"
   ]
  },
  {
   "cell_type": "markdown",
   "metadata": {},
   "source": [
    "# Notched Box Plot"
   ]
  },
  {
   "cell_type": "markdown",
   "metadata": {},
   "source": [
    "Untuk membuat Notched Box Plot kita hanya cukup menambahkan parameter notch=True pada fungsi plt.boxplot()"
   ]
  },
  {
   "cell_type": "code",
   "execution_count": 44,
   "metadata": {},
   "outputs": [
    {
     "data": {
      "image/png": "[encoded data removed]",
      "text/plain": [
       "<Figure size 432x288 with 1 Axes>"
      ]
     },
     "metadata": {
      "needs_background": "light"
     },
     "output_type": "display_data"
    }
   ],
   "source": [
    "plt.boxplot(data, labels=['Data'], notch=True)\n",
    "plt.title('Notched Box Plot')\n",
    "plt.xlabel('Sumbu X')\n",
    "plt.ylabel('Sumbu Y')\n",
    "\n",
    "plt.show()"
   ]
  },
  {
   "cell_type": "markdown",
   "metadata": {},
   "source": [
    "# Pengaturan Marker untuk Outlier"
   ]
  },
  {
   "cell_type": "markdown",
   "metadata": {},
   "source": [
    "Outlier pada matplotlib juga dikenal sebagai flier"
   ]
  },
  {
   "cell_type": "code",
   "execution_count": 45,
   "metadata": {},
   "outputs": [
    {
     "data": {
      "image/png": "[encoded data removed]",
      "text/plain": [
       "<Figure size 432x288 with 1 Axes>"
      ]
     },
     "metadata": {
      "needs_background": "light"
     },
     "output_type": "display_data"
    }
   ],
   "source": [
    "#contoh Box Plot dengan Pengaturan Marker untuk Outlier\n",
    "plt.boxplot(data, \n",
    "            labels=['Data'],\n",
    "           showfliers=True,\n",
    "           flierprops={'markerfacecolor' :'b', 'marker': 'd'})\n",
    "plt.title('Pengaturan Marker')\n",
    "plt.xlabel('Sumbu X')\n",
    "plt.ylabel('Sumbu Y')\n",
    "\n",
    "plt.show()"
   ]
  },
  {
   "cell_type": "markdown",
   "metadata": {},
   "source": [
    "note: \n",
    "- untuk menghilangkan flier kita tinggal cukup mengganti showfliers=True menjadi showfliers=false\n",
    "- parametr marker disini untuk menentuan bentuk markernya seperti * dan d (* untuk star dan d untuk diamond)"
   ]
  },
  {
   "cell_type": "markdown",
   "metadata": {},
   "source": [
    "# Horizontal Box Plot"
   ]
  },
  {
   "cell_type": "markdown",
   "metadata": {},
   "source": [
    "- Untuk menampilkan menampilakn Horizontal Box plot kita hanya cukup menambahkan parameter vert=False"
   ]
  },
  {
   "cell_type": "code",
   "execution_count": 60,
   "metadata": {},
   "outputs": [
    {
     "data": {
      "image/png": "[encoded data removed]",
      "text/plain": [
       "<Figure size 432x288 with 1 Axes>"
      ]
     },
     "metadata": {
      "needs_background": "light"
     },
     "output_type": "display_data"
    }
   ],
   "source": [
    "#contoh Horizontal Box Plot\n",
    "plt.boxplot(data, labels=['Data'], vert=False)\n",
    "plt.title('Horizontal Box Plot')\n",
    "plt.xlabel('Sumbu X')\n",
    "plt.ylabel('Sumbu Y')\n",
    "\n",
    "plt.show()"
   ]
  },
  {
   "cell_type": "markdown",
   "metadata": {},
   "source": [
    "# Multiple Box Plot"
   ]
  },
  {
   "cell_type": "code",
   "execution_count": 61,
   "metadata": {},
   "outputs": [],
   "source": [
    "np.random.seed(10)\n",
    "data1 = np.random.normal(100, 10, 200)\n",
    "data2 = np.random.normal(80, 30, 200)\n",
    "data3 = np.random.normal(90, 20, 200)\n",
    "\n",
    "data = [data1, data2, data3]\n",
    "labels = ['Data 1', 'Data 2', 'Data 3']"
   ]
  },
  {
   "cell_type": "code",
   "execution_count": 62,
   "metadata": {},
   "outputs": [
    {
     "data": {
      "image/png": "[encoded data removed]",
      "text/plain": [
       "<Figure size 432x288 with 1 Axes>"
      ]
     },
     "metadata": {
      "needs_background": "light"
     },
     "output_type": "display_data"
    }
   ],
   "source": [
    "#contoh Mutliple Box Plot\n",
    "plt.boxplot(data, labels=labels)\n",
    "plt.title('Multiple Box Plot')\n",
    "plt.xlabel('Sumbu X')\n",
    "plt.ylabel('Sumbu Y')\n",
    "\n",
    "plt.show()"
   ]
  },
  {
   "cell_type": "markdown",
   "metadata": {},
   "source": [
    "source: https://www.youtube.com/watch?v=DQmFskXt8Rc Trs_M"
   ]
  },
  {
   "cell_type": "markdown",
   "metadata": {},
   "source": [
    "# Part 2 Violin Plot / Violin Chart"
   ]
  },
  {
   "cell_type": "markdown",
   "metadata": {},
   "source": [
    "Pada bagian ini kita akan mempelajari cara membuat Violin Plot / Violin Chart pada Matplotlib"
   ]
  },
  {
   "cell_type": "code",
   "execution_count": 100,
   "metadata": {},
   "outputs": [],
   "source": [
    "#import modules\n",
    "\n",
    "%matplotlib inline \n",
    "import matplotlib\n",
    "import matplotlib.pyplot as plt\n",
    "import numpy as np"
   ]
  },
  {
   "cell_type": "code",
   "execution_count": 101,
   "metadata": {},
   "outputs": [
    {
     "name": "stdout",
     "output_type": "stream",
     "text": [
      "3.3.2\n",
      "1.19.2\n"
     ]
    }
   ],
   "source": [
    "#check version\n",
    "print(matplotlib.__version__)\n",
    "print(np.__version__)"
   ]
  },
  {
   "cell_type": "markdown",
   "metadata": {},
   "source": [
    "# Sample Dataset"
   ]
  },
  {
   "cell_type": "code",
   "execution_count": 102,
   "metadata": {},
   "outputs": [
    {
     "data": {
      "text/plain": [
       "array([ 95.83242153,  99.43733173,  78.63803904, 116.40270808,\n",
       "        82.06564415,  91.58252634, 105.02881417,  87.54711913,\n",
       "        89.42047781,  90.90992385, 105.51454045, 122.92208013,\n",
       "       100.41539393,  88.82074555, 105.39058321,  94.038403  ,\n",
       "        99.80869503, 111.7500122 ,  92.52129051, 100.09025251,\n",
       "        91.21892107,  98.4356583 , 102.56570452,  90.11220951,\n",
       "        96.61178034,  97.63815969,  93.62344988,  88.12387714,\n",
       "        85.78782773,  98.46504804,  97.3094304 , 122.31366789,\n",
       "        75.65232423, 101.12726505, 103.70444537, 113.59633863,\n",
       "       105.01857207,  91.55786296, 100.00009761, 105.42352572,\n",
       "        96.86491803, 107.71011738,  81.31909345, 117.31184666,\n",
       "       114.67678011,  96.64322661, 106.1134078 , 100.47970592,\n",
       "        91.70864711, 100.87710218, 110.00365887,  96.18907482,\n",
       "        96.24330577,  99.25529237, 104.3349633 , 112.7837923 ,\n",
       "        93.65320695, 105.08396243, 102.16116006,  81.41387614,\n",
       "        95.80683518,  98.67671102,  99.6042976 , 103.26003433,\n",
       "        79.59676951, 100.46255523,  93.22324423,  85.60560973,\n",
       "       105.2429643 , 107.35279576,  93.46749732, 108.42456282,\n",
       "        96.18483518, 100.66489009,  89.01261053, 115.84487056,\n",
       "        73.40550544,  99.08547377, 106.95119605,  79.66533454,\n",
       "        98.10530735,  99.22781335, 108.24703005, 112.48212921,\n",
       "        95.96107731,  86.15481333, 113.67235424, 112.17885633,\n",
       "        95.37994652, 103.50888494, 103.81866234, 105.66275441,\n",
       "       102.04207979, 114.06696242,  82.62040496, 110.40823953,\n",
       "       103.8047197 ,  97.82864731, 111.73531498,  76.56396809,\n",
       "       111.61521491, 103.86078048,  88.66866726, 104.33092555,\n",
       "        96.95913561, 125.85294868, 118.35332723, 104.40689872,\n",
       "        92.80746159,  94.16585405,  96.74950372,  94.39765494,\n",
       "        90.97753932,  94.09027725,  97.23820508,  94.83116106,\n",
       "        93.0141005 ,  90.71108075, 125.50438236,  85.26826752,\n",
       "        89.78585269, 104.32395701,  96.7641993 , 104.23824708,\n",
       "       107.99179995, 112.62613663, 107.51964849,  90.06239017,\n",
       "       111.09143281,  82.35082272,  98.85578703,  95.01825806,\n",
       "        89.39200964, 105.91666521,  98.16743426, 110.19854729,\n",
       "        85.17534522, 108.46311892, 104.97940148, 101.26504175,\n",
       "        85.81189449,  97.48225882,  84.53325389,  79.17348064,\n",
       "       132.79745401, 109.7086132 , 117.92592852,  95.70986681,\n",
       "       106.9619798 , 106.97416272, 106.01515814, 100.03659491,\n",
       "        97.71752442,  79.30387737, 106.10144086, 104.234969  ,\n",
       "       111.17886733,  97.25757911, 117.41812188,  95.52499124,\n",
       "        87.44572782, 109.38163671,  95.3165374 ,  87.45279693,\n",
       "       101.24823646, 107.56502143, 102.41439629, 104.97425649,\n",
       "       141.08692624, 108.21120877, 115.31760316,  80.14154226,\n",
       "       103.65053516, 107.74082033,  96.35520908,  91.24020522,\n",
       "       103.96520159,  96.85382564,  94.06244417, 111.49500568,\n",
       "       113.35566168, 103.02629336,  95.45772145, 105.14370717,\n",
       "       108.29458431, 106.30621967,  85.4663565 ,  96.61982223,\n",
       "       103.59133332, 106.22220414, 109.60781945, 107.58370347,\n",
       "        88.65681517,  92.92579112,  87.78570835, 118.04476642,\n",
       "       101.80409807, 105.53164274, 110.33029066,  96.70997565])"
      ]
     },
     "execution_count": 102,
     "metadata": {},
     "output_type": "execute_result"
    }
   ],
   "source": [
    "np.random.seed(2)\n",
    "data= np.random.normal(loc=100, scale=10, size=200)\n",
    "data"
   ]
  },
  {
   "cell_type": "markdown",
   "metadata": {},
   "source": [
    "# Simple Violin Plot"
   ]
  },
  {
   "cell_type": "markdown",
   "metadata": {},
   "source": [
    "Untuk membuat Violin plot kita hanya perlu menggunakan fungsi plt.violinplot()"
   ]
  },
  {
   "cell_type": "code",
   "execution_count": 103,
   "metadata": {},
   "outputs": [
    {
     "data": {
      "image/png": "[encoded data removed]",
      "text/plain": [
       "<Figure size 432x288 with 1 Axes>"
      ]
     },
     "metadata": {
      "needs_background": "light"
     },
     "output_type": "display_data"
    }
   ],
   "source": [
    "#contoh Simple Violin Plot\n",
    "plt.violinplot(data)\n",
    "plt.title('Simple Violin Plot')\n",
    "plt.xlabel('Sumbu X')\n",
    "plt.ylabel('Sumbu Y')\n",
    "\n",
    "plt.show()"
   ]
  },
  {
   "cell_type": "markdown",
   "metadata": {},
   "source": [
    "# Pengaturan pada Violin Plot"
   ]
  },
  {
   "cell_type": "code",
   "execution_count": 104,
   "metadata": {},
   "outputs": [
    {
     "data": {
      "image/png": "[encoded data removed]",
      "text/plain": [
       "<Figure size 432x288 with 1 Axes>"
      ]
     },
     "metadata": {
      "needs_background": "light"
     },
     "output_type": "display_data"
    }
   ],
   "source": [
    "#contoh Pengaturan Violin Plot 1\n",
    "plt.violinplot(data,\n",
    "              showextrema=False,\n",
    "              showmeans=False,\n",
    "              showmedians=False,\n",
    "              quantiles=None)\n",
    "\n",
    "plt.title('Violin Plot')\n",
    "plt.xlabel('Sumbu X')\n",
    "plt.ylabel('Sumbu Y')\n",
    "\n",
    "plt.show()"
   ]
  },
  {
   "cell_type": "code",
   "execution_count": 105,
   "metadata": {},
   "outputs": [
    {
     "data": {
      "image/png": "[encoded data removed]",
      "text/plain": [
       "<Figure size 432x288 with 1 Axes>"
      ]
     },
     "metadata": {
      "needs_background": "light"
     },
     "output_type": "display_data"
    }
   ],
   "source": [
    "#contoh Pengaturan Violin Plot 2\n",
    "plt.violinplot(data,\n",
    "              showextrema=True,\n",
    "              showmeans=True,\n",
    "              showmedians=True,\n",
    "              quantiles=[0.25,0.5,0.75]) #menampilkan q1,q2,q3\n",
    "\n",
    "plt.title('Violin Plot')\n",
    "plt.xlabel('Sumbu X')\n",
    "plt.ylabel('Sumbu Y')\n",
    "\n",
    "plt.show()"
   ]
  },
  {
   "cell_type": "markdown",
   "metadata": {},
   "source": [
    "note:\n",
    "- showextrema digunakan untuk menampilkan garis tengah vertikal dan menampilkan garis yang mengindikasikan nilai minimum dan maksimum dari dataset (jika parameternya True)\n",
    "- showmeans digunakan untuk memunculkan indikator untuk nilai mean (jika parameternya True)\n",
    "- showmedians digunakan untuk memunculkan indikator untuk nilai median (jika parameternya True)\n",
    "- quantiles nilai di quantiles memiliki nilai yang jangkauannya dari 0 sampai dengan 1 jangkauan nilai 0 sampai satu ini akan merepresentasikan presentasi "
   ]
  },
  {
   "cell_type": "markdown",
   "metadata": {},
   "source": [
    "# Horizontal Violin Plot"
   ]
  },
  {
   "cell_type": "markdown",
   "metadata": {},
   "source": [
    "Untuk menampilkan menampilakn Horizontal Violin plot kita hanya cukup menambahkan parameter vert=False"
   ]
  },
  {
   "cell_type": "code",
   "execution_count": 106,
   "metadata": {},
   "outputs": [
    {
     "data": {
      "image/png": "[encoded data removed]",
      "text/plain": [
       "<Figure size 432x288 with 1 Axes>"
      ]
     },
     "metadata": {
      "needs_background": "light"
     },
     "output_type": "display_data"
    }
   ],
   "source": [
    "#contoh Horizontal Violin Plot\n",
    "plt.violinplot(data, vert=False)\n",
    "plt.title('Horizontal Violin Plot')\n",
    "plt.xlabel('Sumbu X')\n",
    "plt.ylabel('Sumbu Y')\n",
    "\n",
    "plt.show()"
   ]
  },
  {
   "cell_type": "markdown",
   "metadata": {},
   "source": [
    "# Multiple Violin Plot"
   ]
  },
  {
   "cell_type": "code",
   "execution_count": 107,
   "metadata": {},
   "outputs": [],
   "source": [
    "np.random.seed(10)\n",
    "data1 = np.random.normal(100, 10, 200)\n",
    "data2 = np.random.normal(80, 30, 200)\n",
    "data3 = np.random.normal(90, 20, 200)\n",
    "\n",
    "data = [data1, data2, data3]\n",
    "labels = ['Data 1', 'Data 2', 'Data 3']"
   ]
  },
  {
   "cell_type": "code",
   "execution_count": 108,
   "metadata": {},
   "outputs": [
    {
     "data": {
      "image/png": "[encoded data removed]",
      "text/plain": [
       "<Figure size 432x288 with 1 Axes>"
      ]
     },
     "metadata": {
      "needs_background": "light"
     },
     "output_type": "display_data"
    }
   ],
   "source": [
    "#contoh Violin Box Plot\n",
    "plt.violinplot(data)\n",
    "plt.title('Multiple Violin Plot')\n",
    "plt.xlabel('Sumbu X')\n",
    "plt.ylabel('Sumbu Y')\n",
    "\n",
    "plt.show()"
   ]
  },
  {
   "cell_type": "markdown",
   "metadata": {},
   "source": [
    "source: https://www.youtube.com/watch?v=tmNgRN3Qz1M Trs_M"
   ]
  },
  {
   "cell_type": "markdown",
   "metadata": {},
   "source": [
    "# Part 3 Twin Axes"
   ]
  },
  {
   "cell_type": "markdown",
   "metadata": {},
   "source": [
    "Pada bagian ini kita akan mempelajari cara Twin Axes pada Matplotlib"
   ]
  },
  {
   "cell_type": "code",
   "execution_count": 109,
   "metadata": {},
   "outputs": [],
   "source": [
    "#import modules\n",
    "\n",
    "%matplotlib inline \n",
    "import matplotlib\n",
    "import matplotlib.pyplot as plt\n",
    "import numpy as np"
   ]
  },
  {
   "cell_type": "code",
   "execution_count": 110,
   "metadata": {},
   "outputs": [
    {
     "name": "stdout",
     "output_type": "stream",
     "text": [
      "3.3.2\n",
      "1.19.2\n"
     ]
    }
   ],
   "source": [
    "#check version\n",
    "print(matplotlib.__version__)\n",
    "print(np.__version__)"
   ]
  },
  {
   "cell_type": "markdown",
   "metadata": {},
   "source": [
    "# Kasus Twin Axes 1"
   ]
  },
  {
   "cell_type": "code",
   "execution_count": 111,
   "metadata": {},
   "outputs": [
    {
     "data": {
      "text/plain": [
       "array([ 1.        ,  1.73684211,  2.47368421,  3.21052632,  3.94736842,\n",
       "        4.68421053,  5.42105263,  6.15789474,  6.89473684,  7.63157895,\n",
       "        8.36842105,  9.10526316,  9.84210526, 10.57894737, 11.31578947,\n",
       "       12.05263158, 12.78947368, 13.52631579, 14.26315789, 15.        ])"
      ]
     },
     "execution_count": 111,
     "metadata": {},
     "output_type": "execute_result"
    }
   ],
   "source": [
    "#dataset prep\n",
    "x =np.linspace(1,15,20)\n",
    "x"
   ]
  },
  {
   "cell_type": "code",
   "execution_count": 112,
   "metadata": {},
   "outputs": [
    {
     "data": {
      "image/png": "[encoded data removed]",
      "text/plain": [
       "<Figure size 432x288 with 2 Axes>"
      ]
     },
     "metadata": {
      "needs_background": "light"
     },
     "output_type": "display_data"
    }
   ],
   "source": [
    "fig, ax1=plt.subplots()\n",
    "\n",
    "ax1.plot(x, np.exp(x), 'bs-', label='exp')\n",
    "ax1.set_xlabel('Sumbu X')\n",
    "ax1.set_ylabel('exp')\n",
    "\n",
    "ax2=ax1.twinx()\n",
    "ax2.plot(x,np.log(x), 'ro-', label='log')\n",
    "ax2.set_ylabel('log')\n",
    "\n",
    "fig.suptitle('Contoh Twin Axes 1')\n",
    "fig.legend(loc='upper left')\n",
    "\n",
    "plt.show()"
   ]
  },
  {
   "cell_type": "markdown",
   "metadata": {},
   "source": [
    "note:\n",
    "- kasus twin axes 1 ini menggunakan OO Style\n",
    "- 3 paramter di plot('ro-') digunakan untuk mengatur warna markernya (ex: 'r'), shape markernya (ex:s untuk square) dan garis markernya (-)\n",
    "- fungsi np.exp() digunakan untuk menampilkan nilai eksponen\n",
    "- fungsi np.log() digunakan untuk menampilkan nilai logaritma\n",
    "- ploting kedua (ax2) dilakukan pada axes yang berbeda hanya saja axes kedua ini akan ditempatkan bertumpukan dengan axes pertama\n",
    "- ploting kedua (ax2) mengindikasikan logaritma\n",
    "- fungsi ax1.twinx() akan menghasilkan axes baru yang akan ditempatkan diatas ax1."
   ]
  },
  {
   "cell_type": "markdown",
   "metadata": {},
   "source": [
    "# Kasus Twin Axes 2"
   ]
  },
  {
   "cell_type": "code",
   "execution_count": 113,
   "metadata": {},
   "outputs": [
    {
     "data": {
      "text/plain": [
       "array([22, 26, 24, 26, 27, 20, 22, 25, 21, 23, 28, 22, 25, 24, 24, 25, 22,\n",
       "       23, 24, 21, 25, 28, 20, 20, 24])"
      ]
     },
     "execution_count": 113,
     "metadata": {},
     "output_type": "execute_result"
    }
   ],
   "source": [
    "#dataset prep\n",
    "x =np.random.randint(20,30,25)\n",
    "x\n"
   ]
  },
  {
   "cell_type": "code",
   "execution_count": 114,
   "metadata": {},
   "outputs": [
    {
     "data": {
      "image/png": "[encoded data removed]",
      "text/plain": [
       "<Figure size 432x288 with 2 Axes>"
      ]
     },
     "metadata": {
      "needs_background": "light"
     },
     "output_type": "display_data"
    }
   ],
   "source": [
    "def C2F(celsius=0):\n",
    "    return(celsius * 1.8) +32\n",
    "\n",
    "def konversi_sumbu(ax1):\n",
    "    y1,y2=ax1.get_ylim()\n",
    "    ax2.set_ylim(C2F(y1),C2F(y2))\n",
    "    ax2.figure.canvas.draw()\n",
    "    \n",
    "fig,ax1=plt.subplots()\n",
    "ax2=ax1.twinx()\n",
    "\n",
    "ax1.callbacks.connect('ylim_changed', konversi_sumbu)\n",
    "ax1.plot(x)\n",
    "\n",
    "ax1.set_xlabel('hari')\n",
    "ax1.set_ylabel('Celsius')\n",
    "ax2.set_ylabel('Fahrenheit')\n",
    "\n",
    "fig.suptitle('Temperature Udara (Contoh Twin Axes 2)')\n",
    "plt.show()"
   ]
  },
  {
   "cell_type": "markdown",
   "metadata": {},
   "source": [
    "note:\n",
    "- fungsi .get_ylim() digunakan untuk mengambil nilai ylimitnya\n",
    "- fungsi callbacks.connect() digunakan untuk menghubungkan sumbu y axes 1 dengan sumbu y axes 2"
   ]
  },
  {
   "cell_type": "markdown",
   "metadata": {},
   "source": [
    "source: https://www.youtube.com/watch?v=XETZP6U76tA Trs_M"
   ]
  }
 ],
 "metadata": {
  "kernelspec": {
   "display_name": "Python 3",
   "language": "python",
   "name": "python3"
  },
  "language_info": {
   "codemirror_mode": {
    "name": "ipython",
    "version": 3
   },
   "file_extension": ".py",
   "mimetype": "text/x-python",
   "name": "python",
   "nbconvert_exporter": "python",
   "pygments_lexer": "ipython3",
   "version": "3.8.5"
  }
 },
 "nbformat": 4,
 "nbformat_minor": 4
}
